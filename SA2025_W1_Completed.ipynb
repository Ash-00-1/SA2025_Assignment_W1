{
 "cells": [
  {
   "cell_type": "markdown",
   "id": "01aeab2c",
   "metadata": {},
   "source": [
    "## SA2025 - Week 1\n",
    "\n",
    "### Completed Assignment using Cars Dataset"
   ]
  },
  {
   "cell_type": "code",
   "execution_count": null,
   "id": "c4f76a1d",
   "metadata": {},
   "outputs": [],
   "source": [
    "import pandas as pd\n",
    "import numpy as np"
   ]
  },
  {
   "cell_type": "code",
   "execution_count": null,
   "id": "1d4957f5",
   "metadata": {},
   "outputs": [],
   "source": [
    "df = pd.read_csv('Cars.csv')"
   ]
  },
  {
   "cell_type": "code",
   "execution_count": null,
   "id": "b1f14a00",
   "metadata": {},
   "outputs": [],
   "source": [
    "df.head()"
   ]
  },
  {
   "cell_type": "code",
   "execution_count": null,
   "id": "4e1b5665",
   "metadata": {},
   "outputs": [],
   "source": [
    "df.info()"
   ]
  },
  {
   "cell_type": "code",
   "execution_count": null,
   "id": "c783773c",
   "metadata": {},
   "outputs": [],
   "source": [
    "df.describe()"
   ]
  },
  {
   "cell_type": "code",
   "execution_count": null,
   "id": "57a76c4a",
   "metadata": {},
   "outputs": [],
   "source": [
    "df.columns"
   ]
  },
  {
   "cell_type": "code",
   "execution_count": null,
   "id": "159765df",
   "metadata": {},
   "outputs": [],
   "source": [
    "df.shape"
   ]
  },
  {
   "cell_type": "code",
   "execution_count": null,
   "id": "69f928e7",
   "metadata": {},
   "outputs": [],
   "source": [
    "df['cylinders'].value_counts()"
   ]
  },
  {
   "cell_type": "code",
   "execution_count": null,
   "id": "8a754178",
   "metadata": {},
   "outputs": [],
   "source": [
    "df['origin'].value_counts()"
   ]
  },
  {
   "cell_type": "code",
   "execution_count": null,
   "id": "254b6ec0",
   "metadata": {},
   "outputs": [],
   "source": [
    "df['model_year'].value_counts().sort_index().head(10)"
   ]
  },
  {
   "cell_type": "code",
   "execution_count": null,
   "id": "d6f4a22f",
   "metadata": {},
   "outputs": [],
   "source": [
    "df['mpg'].mean()"
   ]
  },
  {
   "cell_type": "code",
   "execution_count": null,
   "id": "bd50aea4",
   "metadata": {},
   "outputs": [],
   "source": [
    "df[df['mpg'] > 30]"
   ]
  },
  {
   "cell_type": "code",
   "execution_count": null,
   "id": "cb1b3f77",
   "metadata": {},
   "outputs": [],
   "source": [
    "df[(df['cylinders'] == 4) & (df['mpg'] > 30)]"
   ]
  },
  {
   "cell_type": "code",
   "execution_count": null,
   "id": "589bb366",
   "metadata": {},
   "outputs": [],
   "source": [
    "df.groupby('origin')['mpg'].mean()"
   ]
  },
  {
   "cell_type": "code",
   "execution_count": null,
   "id": "d96916a3",
   "metadata": {},
   "outputs": [],
   "source": [
    "df.groupby(['origin', 'cylinders'])['mpg'].mean()"
   ]
  },
  {
   "cell_type": "code",
   "execution_count": null,
   "id": "e5402b37",
   "metadata": {},
   "outputs": [],
   "source": [
    "df['name'].nunique()"
   ]
  },
  {
   "cell_type": "code",
   "execution_count": null,
   "id": "46f16f5b",
   "metadata": {},
   "outputs": [],
   "source": [
    "df[df['origin'] == 'japan']"
   ]
  },
  {
   "cell_type": "code",
   "execution_count": null,
   "id": "e15c4257",
   "metadata": {},
   "outputs": [],
   "source": [
    "df[df['origin'] == 'japan']['mpg'].mean()"
   ]
  }
 ],
 "metadata": {
  "colab": {
   "provenance": []
  },
  "kernelspec": {
   "display_name": "Python 3",
   "language": "python",
   "name": "python3"
  },
  "language_info": {
   "codemirror_mode": {
    "name": "ipython",
    "version": 3
   },
   "file_extension": ".py",
   "mimetype": "text/x-python",
   "name": "python",
   "nbconvert_exporter": "python",
   "pygments_lexer": "ipython3",
   "version": "3.7.6"
  }
 },
 "nbformat": 4,
 "nbformat_minor": 0
}
